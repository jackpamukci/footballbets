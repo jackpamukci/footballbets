{
 "cells": [
  {
   "cell_type": "markdown",
   "metadata": {},
   "source": [
    "## Parameters and Imports"
   ]
  },
  {
   "cell_type": "code",
   "execution_count": null,
   "metadata": {},
   "outputs": [],
   "source": [
    "import soccerdata as sd\n",
    "import pandas as pd\n",
    "from tqdm import tqdm\n",
    "pd.set_option('display.max_columns', None)\n",
    "import logging"
   ]
  },
  {
   "cell_type": "code",
   "execution_count": null,
   "metadata": {},
   "outputs": [],
   "source": [
    "import boto3\n",
    "from dotenv import load_dotenv\n",
    "import os\n",
    "from io import StringIO\n",
    "\n",
    "load_dotenv()\n",
    "aws_access_key = os.getenv('AWS_ACCESS_KEY')\n",
    "aws_secret_access = os.getenv('AWS_SECRET_ACCESS')\n",
    "aws_region = os.getenv('AWS_REGION')\n",
    "\n",
    "s3 = boto3.client('s3',\n",
    "                aws_access_key_id=aws_access_key,\n",
    "                aws_secret_access_key=aws_secret_access,\n",
    "                region_name=aws_region)\n",
    "\n",
    "bucket = 'footballbets'\n",
    "league = \"ENG-Premier League\"\n",
    "season = 2223"
   ]
  },
  {
   "cell_type": "markdown",
   "metadata": {},
   "source": [
    "## Join Schedules"
   ]
  },
  {
   "cell_type": "code",
   "execution_count": null,
   "metadata": {},
   "outputs": [],
   "source": [
    "ws = sd.WhoScored(leagues=league, \n",
    "                  seasons=season)\n",
    "\n",
    "fbref = sd.FBref(leagues=league, \n",
    "                 seasons=season)\n",
    "\n",
    "\n",
    "mh = sd.MatchHistory(leagues=league, \n",
    "                     seasons=season)\n",
    "\n",
    "understat = sd.Understat(leagues=league, \n",
    "                         seasons=season,\n",
    "                         no_cache=True)"
   ]
  },
  {
   "cell_type": "code",
   "execution_count": null,
   "metadata": {},
   "outputs": [],
   "source": [
    "epl_schedule = ws.read_schedule()\n",
    "fbref_schedule = fbref.read_schedule()\n",
    "understat_schedule = understat.read_schedule(force_cache=True)"
   ]
  },
  {
   "cell_type": "code",
   "execution_count": null,
   "metadata": {},
   "outputs": [],
   "source": [
    "master_schedule = epl_schedule.merge(fbref_schedule[['game_id']], left_index=True, right_index=True, how='inner')\n",
    "master_schedule = master_schedule.merge(understat_schedule[['game_id']], left_index=True, right_index=True, how='left')\n",
    "\n",
    "master_schedule.rename(columns={'game_id_x':'ws_game_id',\n",
    "                                'game_id_y':'fbref_game_id',\n",
    "                                'game_id':'und_game_id'},\n",
    "                                inplace=True)"
   ]
  },
  {
   "cell_type": "markdown",
   "metadata": {},
   "source": [
    "## Master Loop"
   ]
  },
  {
   "cell_type": "code",
   "execution_count": null,
   "metadata": {},
   "outputs": [],
   "source": [
    "team_match_data = understat.read_team_match_stats(force_cache=True)\n",
    "\n",
    "logging.info(\"Team Data Loaded\")\n",
    "\n",
    "team_match = StringIO()\n",
    "team_match_data.to_csv(team_match, index=False)\n",
    "s3.put_object(Bucket=bucket, Key=f'{league}/{season}/team_match_stats/Team_Stats.csv', Body=team_match.getvalue())\n",
    "\n",
    "odds_data = mh.read_games()\n",
    "\n",
    "logging.info(\"Odds Data Loaded\")\n",
    "\n",
    "odds_match = StringIO()\n",
    "odds_data.to_csv(odds_match, index=False)\n",
    "s3.put_object(Bucket=bucket, Key=f'{league}/{season}/odds_data/Odds.csv', Body=odds_match.getvalue())\n",
    "\n",
    "logging.info(\"Team Match Stats Into S3\")\n",
    "\n",
    "for id, match in master_schedule.iloc[:2].iterrows():\n",
    "    print(id[-1])\n",
    "    match_file_name = id[-1].replace(' ', '_')\n",
    "\n",
    "    event_data = ws.read_events(match_id=int(match.ws_game_id),\n",
    "                                output_fmt=\"spadl\")\n",
    "    \n",
    "    logging.info(\"SPADL Data Loaded\")\n",
    "    \n",
    "    spadl_buffer = StringIO()\n",
    "\n",
    "    event_data.to_csv(spadl_buffer, index=False)\n",
    "    s3.put_object(Bucket=bucket, Key=f'{league}/{season}/events/{match_file_name}_SPADL.csv', Body=spadl_buffer.getvalue())\n",
    "\n",
    "    logging.info(\"SPADL Data Into S3\")\n",
    "\n",
    "    missing_players = ws.read_missing_players(match_id=int(match.ws_game_id))\n",
    "\n",
    "    logging.info(\"Missing Player Data Loaded\")\n",
    "\n",
    "    players_buffer = StringIO()\n",
    "    missing_players.to_csv(players_buffer, index=False)\n",
    "    s3.put_object(Bucket=bucket, Key=f'{league}/{season}/missing_players/{match_file_name}_Missing_Players.csv', Body=players_buffer.getvalue())\n",
    "\n",
    "    logging.info(\"Missing Player Data Into S3\")\n",
    "\n",
    "    player_match_data = understat.read_player_match_stats(match_id=int(match.und_game_id))\n",
    "\n",
    "    logging.info(\"Player Data Loaded\")\n",
    "\n",
    "    players_match = StringIO()\n",
    "    player_match_data.to_csv(players_match, index=False)\n",
    "    s3.put_object(Bucket=bucket, Key=f'{league}/{season}/player_match_stats/{match_file_name}_Player_Stats.csv', Body=players_match.getvalue())\n",
    "\n",
    "    logging.info(\"Player Data Into S3\")\n",
    "\n",
    "    lineups = fbref.read_lineup(match_id=match.fbref_game_id)\n",
    "\n",
    "    logging.info(\"Lineup Data Loaded\")\n",
    "\n",
    "    lineups_match = StringIO()\n",
    "    lineups.to_csv(lineups_match, index=False)\n",
    "    s3.put_object(Bucket=bucket, Key=f'{league}/{season}/lineups/{match_file_name}_Lineups.csv', Body=lineups_match.getvalue())\n",
    "\n",
    "    logging.info(\"Lineup Data Into S3\")\n"
   ]
  }
 ],
 "metadata": {
  "kernelspec": {
   "display_name": "venv",
   "language": "python",
   "name": "python3"
  },
  "language_info": {
   "codemirror_mode": {
    "name": "ipython",
    "version": 3
   },
   "file_extension": ".py",
   "mimetype": "text/x-python",
   "name": "python",
   "nbconvert_exporter": "python",
   "pygments_lexer": "ipython3",
   "version": "3.11.2"
  }
 },
 "nbformat": 4,
 "nbformat_minor": 2
}
