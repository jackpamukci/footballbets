{
 "cells": [
  {
   "cell_type": "code",
   "execution_count": null,
   "metadata": {},
   "outputs": [],
   "source": [
    "import boto3\n",
    "from dotenv import load_dotenv\n",
    "import os\n",
    "import warnings\n",
    "from io import StringIO\n",
    "import pandas as pd\n",
    "from tqdm import tqdm\n",
    "import numpy as np\n",
    "import io\n",
    "import requests\n",
    "from datetime import datetime\n",
    "\n",
    "\n",
    "import sys\n",
    "sys.path.append('..')\n",
    "import utils\n",
    "tqdm.pandas()\n",
    "\n",
    "pd.set_option('display.max_columns', 500)\n",
    "pd.set_option('display.max_rows', 500)\n",
    "warnings.filterwarnings('ignore')\n",
    "\n",
    "load_dotenv()\n",
    "aws_access_key = os.getenv('AWS_ACCESS_KEY')\n",
    "aws_secret_access = os.getenv('AWS_SECRET_ACCESS')\n",
    "aws_region = os.getenv('AWS_REGION')\n",
    "\n",
    "s3 = boto3.client('s3',\n",
    "                aws_access_key_id=aws_access_key,\n",
    "                aws_secret_access_key=aws_secret_access,\n",
    "                region_name=aws_region)\n",
    "\n",
    "bucket = 'footballbets'\n",
    "league = \"ENG-Premier League\"\n",
    "season = 2223"
   ]
  },
  {
   "cell_type": "code",
   "execution_count": null,
   "metadata": {},
   "outputs": [],
   "source": [
    "scheduler = s3.get_object(Bucket=bucket, Key=f'ENG-Premier League/2223/schedule.csv')\n",
    "schedule = pd.read_csv(StringIO(scheduler['Body'].read().decode('utf-8')))"
   ]
  },
  {
   "cell_type": "code",
   "execution_count": null,
   "metadata": {},
   "outputs": [],
   "source": [
    "schedule.sort_values('start_time').head()"
   ]
  },
  {
   "cell_type": "code",
   "execution_count": null,
   "metadata": {},
   "outputs": [],
   "source": [
    "schedule.start_time.dtype"
   ]
  },
  {
   "cell_type": "code",
   "execution_count": null,
   "metadata": {},
   "outputs": [],
   "source": [
    "something = requests.get(\"https://fixturedownload.com/download/champions-league-2022-AtlanticStandardTime.csv\")"
   ]
  },
  {
   "cell_type": "code",
   "execution_count": null,
   "metadata": {},
   "outputs": [],
   "source": [
    "europe = pd.read_csv(io.StringIO(something.text))\n",
    "\n",
    "europe['date'] = europe.Date.apply(lambda x: str(x).split(' ')[0])\n",
    "europe['date'] = europe.date.apply(lambda x: datetime.strptime(x, \"%d/%m/%Y\").date())\n",
    "europe['time'] = europe.Date.apply(lambda x: str(x).split(' ')[1])\n",
    "europe['time'] = europe.time.apply(lambda x: datetime.strptime(x, \"%H:%M\").time())"
   ]
  },
  {
   "cell_type": "code",
   "execution_count": null,
   "metadata": {},
   "outputs": [],
   "source": [
    "europe['league'] = 'Champions League'\n",
    "europe['season'] = 2223\n",
    "\n",
    "europe['game'] = europe.apply(lambda x: f\"{x.date} {x['Home Team']}-{x['Away Team']}\", axis=1)\n",
    "europe['start_time'] = europe.apply(lambda x: f\"{x.date}T{x.time}\", axis=1)\n",
    "europe = europe.rename(columns={'Home Team':'home_team', 'Away Team':'away_team'})\n",
    "\n",
    "cols_to_keep = ['league', 'season', 'game', 'start_time', 'home_team', 'away_team']\n",
    "nul_cols = schedule.columns.difference(cols_to_keep)\n",
    "\n",
    "europe = europe.drop(europe.columns.difference(cols_to_keep), axis=1)\n",
    "europe[nul_cols] = np.nan\n",
    "europe.head()"
   ]
  },
  {
   "cell_type": "code",
   "execution_count": null,
   "metadata": {},
   "outputs": [],
   "source": [
    "final_sched = pd.concat([schedule, europe], ignore_index=True).sort_values('start_time')"
   ]
  },
  {
   "cell_type": "code",
   "execution_count": null,
   "metadata": {},
   "outputs": [],
   "source": [
    "final_sched.home_team.unique()"
   ]
  },
  {
   "cell_type": "code",
   "execution_count": null,
   "metadata": {},
   "outputs": [],
   "source": []
  }
 ],
 "metadata": {
  "kernelspec": {
   "display_name": "venv",
   "language": "python",
   "name": "python3"
  },
  "language_info": {
   "codemirror_mode": {
    "name": "ipython",
    "version": 3
   },
   "file_extension": ".py",
   "mimetype": "text/x-python",
   "name": "python",
   "nbconvert_exporter": "python",
   "pygments_lexer": "ipython3",
   "version": "3.11.2"
  }
 },
 "nbformat": 4,
 "nbformat_minor": 2
}
