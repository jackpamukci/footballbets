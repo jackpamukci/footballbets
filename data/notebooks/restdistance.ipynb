{
 "cells": [
  {
   "cell_type": "code",
   "execution_count": 1,
   "metadata": {},
   "outputs": [],
   "source": [
    "import boto3\n",
    "from dotenv import load_dotenv\n",
    "import os\n",
    "import warnings\n",
    "from io import StringIO\n",
    "import pandas as pd\n",
    "from tqdm import tqdm\n",
    "import numpy as np\n",
    "import io\n",
    "import requests\n",
    "from datetime import datetime\n",
    "\n",
    "\n",
    "import sys\n",
    "sys.path.append('..')\n",
    "import utils\n",
    "tqdm.pandas()\n",
    "pd.set_option('display.max_columns', 500)\n",
    "pd.set_option('display.max_rows', 500)\n",
    "warnings.filterwarnings('ignore')\n",
    "\n",
    "load_dotenv()\n",
    "aws_access_key = os.getenv('AWS_ACCESS_KEY')\n",
    "aws_secret_access = os.getenv('AWS_SECRET_ACCESS')\n",
    "aws_region = os.getenv('AWS_REGION')\n",
    "\n",
    "s3 = boto3.client('s3',\n",
    "                aws_access_key_id=aws_access_key,\n",
    "                aws_secret_access_key=aws_secret_access,\n",
    "                region_name=aws_region)\n",
    "\n",
    "bucket = 'footballbets'\n",
    "league = \"ENG-Premier League\"\n",
    "season = 2223"
   ]
  },
  {
   "cell_type": "code",
   "execution_count": 25,
   "metadata": {},
   "outputs": [],
   "source": [
    "current_directory = os.getcwd()\n",
    "parent_directory = os.path.dirname(os.path.dirname(current_directory))\n",
    "sys.path.append(parent_directory)\n",
    "import _config\n",
    "TEAMNAME_REPLACEMENTS = _config.TEAMNAME_REPLACEMENTS"
   ]
  },
  {
   "cell_type": "code",
   "execution_count": 2,
   "metadata": {},
   "outputs": [],
   "source": [
    "scheduler = s3.get_object(Bucket=bucket, Key=f'ENG-Premier League/2223/schedule.csv')\n",
    "schedule = pd.read_csv(StringIO(scheduler['Body'].read().decode('utf-8')))"
   ]
  },
  {
   "cell_type": "code",
   "execution_count": 97,
   "metadata": {},
   "outputs": [
    {
     "data": {
      "text/plain": [
       "Index(['Unnamed: 0', 'index', 'league', 'season', 'game', 'stage_id',\n",
       "       'ws_game_id', 'status', 'start_time', 'home_team_id', 'home_team',\n",
       "       'home_yellow_cards', 'home_red_cards', 'away_team_id', 'away_team',\n",
       "       'away_yellow_cards', 'away_red_cards', 'has_incidents_summary',\n",
       "       'has_preview', 'score_changed_at', 'elapsed', 'last_scorer',\n",
       "       'is_top_match', 'home_team_country_code', 'away_team_country_code',\n",
       "       'comment_count', 'is_lineup_confirmed', 'is_stream_available',\n",
       "       'match_is_opta', 'home_team_country_name', 'away_team_country_name',\n",
       "       'date', 'home_score', 'away_score', 'incidents', 'bets',\n",
       "       'aggregate_winner_field', 'winner_field', 'period',\n",
       "       'extra_result_field', 'home_extratime_score', 'away_extratime_score',\n",
       "       'home_penalty_score', 'away_penalty_score', 'started_at_utc',\n",
       "       'first_half_ended_at_utc', 'second_half_started_at_utc', 'stage',\n",
       "       'fbref_game_id', 'und_game_id'],\n",
       "      dtype='object')"
      ]
     },
     "execution_count": 97,
     "metadata": {},
     "output_type": "execute_result"
    }
   ],
   "source": [
    "schedule.columns"
   ]
  },
  {
   "cell_type": "code",
   "execution_count": 86,
   "metadata": {},
   "outputs": [],
   "source": [
    "season_id = f'20{str(season)[:2]}'\n",
    "europe = pd.DataFrame()\n",
    "\n",
    "for league in ['europa', 'champions']:\n",
    "\n",
    "    headers = {\n",
    "        'Cookies' : '_ga_DTCKHDGKYF=GS1.1.1722868866.6.1.1722869089.0.0.0; _ga=GA1.2.1274569263.1721488882; ARRAffinity=3587c3b28f299ba120e848a3ba122803c40823fd58ac197de099244cf70e116d; ARRAffinitySameSite=3587c3b28f299ba120e848a3ba122803c40823fd58ac197de099244cf70e116d; _gid=GA1.2.1211098860.1722868867; Timezone=Eastern Standard Time',\n",
    "        'Referer' : f'https://fixturedownload.com/download/csv/{league}-league-{season_id}',\n",
    "        'User-Agent' : 'Mozilla/5.0 (Windows NT 10.0; Win64; x64; rv:128.0) Gecko/20100101 Firefox/128.0'\n",
    "    }\n",
    "\n",
    "\n",
    "    csv = requests.get(f\"https://fixturedownload.com/download/{league}-league-{season_id}-EasternStandardTime.csv\", headers=headers)\n",
    "    temp = pd.read_csv(io.StringIO(csv.text))\n",
    "    temp['league'] = 'Europa League' if league == 'europa' else 'Champions League'\n",
    "    europe = pd.concat([europe, temp])"
   ]
  },
  {
   "cell_type": "code",
   "execution_count": 90,
   "metadata": {},
   "outputs": [],
   "source": [
    "team_cols = ['Home Team', 'Away Team']\n",
    "europe[team_cols] = europe[team_cols].replace(TEAMNAME_REPLACEMENTS)\n",
    "pl_teams = list(schedule.home_team.unique())\n",
    "europe = europe[(europe['Home Team'].isin(pl_teams)) | (europe['Away Team'].isin(pl_teams))]\n",
    "\n",
    "europe['date'] = europe.Date.apply(lambda x: str(x).split(' ')[0])\n",
    "europe['date'] = europe.date.apply(lambda x: datetime.strptime(x, \"%d/%m/%Y\").date())\n",
    "europe['time'] = europe.Date.apply(lambda x: str(x).split(' ')[1])\n",
    "europe['time'] = europe.time.apply(lambda x: datetime.strptime(x, \"%H:%M\").time())"
   ]
  },
  {
   "cell_type": "code",
   "execution_count": 91,
   "metadata": {},
   "outputs": [],
   "source": [
    "europe['season'] = 2223\n",
    "\n",
    "europe['game'] = europe.apply(lambda x: f\"{x.date} {x['Home Team']}-{x['Away Team']}\", axis=1)\n",
    "europe['start_time'] = europe.apply(lambda x: f\"{x.date}T{x.time}\", axis=1)\n",
    "europe = europe.rename(columns={'Home Team':'home_team', 'Away Team':'away_team'})\n",
    "\n",
    "cols_to_keep = ['league', 'season', 'game', 'start_time', 'home_team', 'away_team']\n",
    "nul_cols = schedule.columns.difference(cols_to_keep)\n",
    "\n",
    "europe = europe.drop(europe.columns.difference(cols_to_keep), axis=1)\n",
    "europe[nul_cols] = np.nan"
   ]
  },
  {
   "cell_type": "code",
   "execution_count": 92,
   "metadata": {},
   "outputs": [],
   "source": [
    "final_sched = pd.concat([schedule, europe], ignore_index=True).sort_values('start_time')"
   ]
  },
  {
   "cell_type": "code",
   "execution_count": null,
   "metadata": {},
   "outputs": [],
   "source": [
    "final_sched[final_sched['league'] != 'ENG-Premier League']"
   ]
  },
  {
   "cell_type": "code",
   "execution_count": null,
   "metadata": {},
   "outputs": [],
   "source": []
  }
 ],
 "metadata": {
  "kernelspec": {
   "display_name": "venv",
   "language": "python",
   "name": "python3"
  },
  "language_info": {
   "codemirror_mode": {
    "name": "ipython",
    "version": 3
   },
   "file_extension": ".py",
   "mimetype": "text/x-python",
   "name": "python",
   "nbconvert_exporter": "python",
   "pygments_lexer": "ipython3",
   "version": "3.11.2"
  }
 },
 "nbformat": 4,
 "nbformat_minor": 2
}
