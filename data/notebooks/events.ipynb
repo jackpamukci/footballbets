{
 "cells": [
  {
   "cell_type": "markdown",
   "metadata": {},
   "source": [
    "Goals\n",
    "\n",
    "be able to access all data in S3 for a given season\n",
    "- events table\n",
    "- player and team match stats\n",
    "- lineups and missing players table\n",
    "- odds table\n",
    "\n",
    "\n",
    "our end goal is to have player and team tables for the season which will facilitate making our features very easily. \n",
    "that means we should have a player table of every performance in the league with vaep, xG, rest days (have to incorporate european fixtures), travel distance (have to manually get coordinates for stadiums),  \n",
    "\n",
    "then wrangle event data to get "
   ]
  },
  {
   "cell_type": "code",
   "execution_count": 1,
   "metadata": {},
   "outputs": [],
   "source": [
    "import boto3\n",
    "from dotenv import load_dotenv\n",
    "import os\n",
    "import warnings\n",
    "from io import StringIO\n",
    "import pandas as pd\n",
    "import socceraction.spadl as spadl\n",
    "from tqdm import tqdm\n",
    "import numpy as np\n",
    "import xgboost\n",
    "\n",
    "import sys\n",
    "sys.path.append('..')\n",
    "import utils\n",
    "tqdm.pandas()\n",
    "\n",
    "pd.set_option('display.max_columns', 500)\n",
    "pd.set_option('display.max_rows', 500)\n",
    "warnings.filterwarnings('ignore')\n",
    "\n",
    "load_dotenv()\n",
    "aws_access_key = os.getenv('AWS_ACCESS_KEY')\n",
    "aws_secret_access = os.getenv('AWS_SECRET_ACCESS')\n",
    "aws_region = os.getenv('AWS_REGION')\n",
    "\n",
    "s3 = boto3.client('s3',\n",
    "                aws_access_key_id=aws_access_key,\n",
    "                aws_secret_access_key=aws_secret_access,\n",
    "                region_name=aws_region)\n",
    "\n",
    "bucket = 'footballbets'\n",
    "league = \"ENG-Premier League\"\n",
    "season = 2223"
   ]
  },
  {
   "cell_type": "code",
   "execution_count": 17,
   "metadata": {},
   "outputs": [],
   "source": [
    "spadl_e = s3.get_object(Bucket=bucket, Key=f'ENG-Premier League/2223/events_spadl.csv')\n",
    "spadldf = pd.read_csv(StringIO(spadl_e['Body'].read().decode('utf-8')))\n",
    "spadldf = spadl.add_names(spadldf)\n",
    "\n",
    "scheduler = s3.get_object(Bucket=bucket, Key=f'ENG-Premier League/2223/schedule.csv')\n",
    "schedule = pd.read_csv(StringIO(scheduler['Body'].read().decode('utf-8')))\n",
    "\n",
    "spadldf = spadldf.merge(schedule[['game', 'home_team_id', 'ws_game_id']].rename(columns={'game':'fixture'}), how='left', left_on='game_id', right_on='ws_game_id')\n",
    "\n",
    "\n",
    "\n",
    "spadldf['prevEvent'] = spadldf.shift(1, fill_value=0)['type_name']\n",
    "spadldf['nextEvent'] = spadldf.shift(-1, fill_value=0)['type_name']\n",
    "spadldf['nextTeamId'] = spadldf.shift(-1, fill_value=0)['team_id']"
   ]
  },
  {
   "cell_type": "markdown",
   "metadata": {},
   "source": [
    "## Possession Sequences"
   ]
  },
  {
   "cell_type": "code",
   "execution_count": 18,
   "metadata": {},
   "outputs": [
    {
     "name": "stderr",
     "output_type": "stream",
     "text": [
      "100%|██████████| 380/380 [01:05<00:00,  5.78it/s]\n"
     ]
    }
   ],
   "source": [
    "spadldf = utils.get_season_possessions(spadldf)"
   ]
  },
  {
   "cell_type": "markdown",
   "metadata": {},
   "source": [
    "## xG"
   ]
  },
  {
   "cell_type": "code",
   "execution_count": 19,
   "metadata": {},
   "outputs": [
    {
     "name": "stderr",
     "output_type": "stream",
     "text": [
      "Calculating play types: 100%|██████████| 112764/112764 [01:29<00:00, 1263.95it/s]\n"
     ]
    }
   ],
   "source": [
    "from xg import xG\n",
    "xgm = xG(spadldf)\n",
    "spadldf['xG'] = xgm.get_xg()"
   ]
  },
  {
   "cell_type": "code",
   "execution_count": 20,
   "metadata": {},
   "outputs": [
    {
     "data": {
      "text/plain": [
       "0.15537494505886906"
      ]
     },
     "execution_count": 20,
     "metadata": {},
     "output_type": "execute_result"
    }
   ],
   "source": [
    "from sklearn.metrics import r2_score\n",
    "xG_ser = spadldf[spadldf['type_name'].isin(['shot', 'shot_freekick', 'shot_penalty'])].xG\n",
    "ground_truth = spadldf[spadldf['type_name'].isin(['shot', 'shot_freekick', 'shot_penalty'])].result_id\n",
    "\n",
    "r2_score(ground_truth, xG_ser)"
   ]
  },
  {
   "cell_type": "code",
   "execution_count": 21,
   "metadata": {},
   "outputs": [
    {
     "data": {
      "text/html": [
       "<div>\n",
       "<style scoped>\n",
       "    .dataframe tbody tr th:only-of-type {\n",
       "        vertical-align: middle;\n",
       "    }\n",
       "\n",
       "    .dataframe tbody tr th {\n",
       "        vertical-align: top;\n",
       "    }\n",
       "\n",
       "    .dataframe thead th {\n",
       "        text-align: right;\n",
       "    }\n",
       "</style>\n",
       "<table border=\"1\" class=\"dataframe\">\n",
       "  <thead>\n",
       "    <tr style=\"text-align: right;\">\n",
       "      <th></th>\n",
       "      <th>xG</th>\n",
       "    </tr>\n",
       "    <tr>\n",
       "      <th>player</th>\n",
       "      <th></th>\n",
       "    </tr>\n",
       "  </thead>\n",
       "  <tbody>\n",
       "    <tr>\n",
       "      <th>Erling Haaland</th>\n",
       "      <td>23.214673</td>\n",
       "    </tr>\n",
       "    <tr>\n",
       "      <th>Mohamed Salah</th>\n",
       "      <td>19.236746</td>\n",
       "    </tr>\n",
       "    <tr>\n",
       "      <th>Harry Kane</th>\n",
       "      <td>18.598679</td>\n",
       "    </tr>\n",
       "    <tr>\n",
       "      <th>Ivan Toney</th>\n",
       "      <td>17.722215</td>\n",
       "    </tr>\n",
       "    <tr>\n",
       "      <th>Callum Wilson</th>\n",
       "      <td>14.250796</td>\n",
       "    </tr>\n",
       "    <tr>\n",
       "      <th>Aleksandar Mitrovic</th>\n",
       "      <td>13.661042</td>\n",
       "    </tr>\n",
       "    <tr>\n",
       "      <th>Ollie Watkins</th>\n",
       "      <td>13.387657</td>\n",
       "    </tr>\n",
       "    <tr>\n",
       "      <th>Gabriel Jesus</th>\n",
       "      <td>12.715813</td>\n",
       "    </tr>\n",
       "    <tr>\n",
       "      <th>Marcus Rashford</th>\n",
       "      <td>12.383760</td>\n",
       "    </tr>\n",
       "    <tr>\n",
       "      <th>Dominic Solanke</th>\n",
       "      <td>11.578854</td>\n",
       "    </tr>\n",
       "  </tbody>\n",
       "</table>\n",
       "</div>"
      ],
      "text/plain": [
       "                            xG\n",
       "player                        \n",
       "Erling Haaland       23.214673\n",
       "Mohamed Salah        19.236746\n",
       "Harry Kane           18.598679\n",
       "Ivan Toney           17.722215\n",
       "Callum Wilson        14.250796\n",
       "Aleksandar Mitrovic  13.661042\n",
       "Ollie Watkins        13.387657\n",
       "Gabriel Jesus        12.715813\n",
       "Marcus Rashford      12.383760\n",
       "Dominic Solanke      11.578854"
      ]
     },
     "execution_count": 21,
     "metadata": {},
     "output_type": "execute_result"
    }
   ],
   "source": [
    "spadldf[['player', 'xG']].groupby('player').sum().sort_values('xG', ascending=False).head(10)"
   ]
  },
  {
   "cell_type": "markdown",
   "metadata": {},
   "source": [
    "## VAEP"
   ]
  },
  {
   "cell_type": "code",
   "execution_count": 26,
   "metadata": {},
   "outputs": [
    {
     "name": "stdout",
     "output_type": "stream",
     "text": [
      "Calculating Features for VAEP\n"
     ]
    },
    {
     "name": "stdout",
     "output_type": "stream",
     "text": [
      "Training Model for VAEP\n"
     ]
    }
   ],
   "source": [
    "spadldf = pd.concat([spadldf, utils.get_vaep(spadldf)], axis=1)"
   ]
  },
  {
   "cell_type": "code",
   "execution_count": 27,
   "metadata": {},
   "outputs": [
    {
     "data": {
      "text/html": [
       "<div>\n",
       "<style scoped>\n",
       "    .dataframe tbody tr th:only-of-type {\n",
       "        vertical-align: middle;\n",
       "    }\n",
       "\n",
       "    .dataframe tbody tr th {\n",
       "        vertical-align: top;\n",
       "    }\n",
       "\n",
       "    .dataframe thead th {\n",
       "        text-align: right;\n",
       "    }\n",
       "</style>\n",
       "<table border=\"1\" class=\"dataframe\">\n",
       "  <thead>\n",
       "    <tr style=\"text-align: right;\">\n",
       "      <th></th>\n",
       "      <th>vaep_value</th>\n",
       "    </tr>\n",
       "    <tr>\n",
       "      <th>player</th>\n",
       "      <th></th>\n",
       "    </tr>\n",
       "  </thead>\n",
       "  <tbody>\n",
       "    <tr>\n",
       "      <th>Kieran Trippier</th>\n",
       "      <td>17.933631</td>\n",
       "    </tr>\n",
       "    <tr>\n",
       "      <th>Martin Ødegaard</th>\n",
       "      <td>16.865478</td>\n",
       "    </tr>\n",
       "    <tr>\n",
       "      <th>Harry Kane</th>\n",
       "      <td>15.117221</td>\n",
       "    </tr>\n",
       "    <tr>\n",
       "      <th>Kevin De Bruyne</th>\n",
       "      <td>14.192955</td>\n",
       "    </tr>\n",
       "    <tr>\n",
       "      <th>Trent Alexander-Arnold</th>\n",
       "      <td>13.158614</td>\n",
       "    </tr>\n",
       "    <tr>\n",
       "      <th>Erling Haaland</th>\n",
       "      <td>12.971816</td>\n",
       "    </tr>\n",
       "    <tr>\n",
       "      <th>Mathias Jensen</th>\n",
       "      <td>12.927472</td>\n",
       "    </tr>\n",
       "    <tr>\n",
       "      <th>Gabriel Martinelli</th>\n",
       "      <td>11.260491</td>\n",
       "    </tr>\n",
       "    <tr>\n",
       "      <th>Marcus Rashford</th>\n",
       "      <td>11.150640</td>\n",
       "    </tr>\n",
       "    <tr>\n",
       "      <th>James Ward-Prowse</th>\n",
       "      <td>10.736066</td>\n",
       "    </tr>\n",
       "  </tbody>\n",
       "</table>\n",
       "</div>"
      ],
      "text/plain": [
       "                        vaep_value\n",
       "player                            \n",
       "Kieran Trippier          17.933631\n",
       "Martin Ødegaard          16.865478\n",
       "Harry Kane               15.117221\n",
       "Kevin De Bruyne          14.192955\n",
       "Trent Alexander-Arnold   13.158614\n",
       "Erling Haaland           12.971816\n",
       "Mathias Jensen           12.927472\n",
       "Gabriel Martinelli       11.260491\n",
       "Marcus Rashford          11.150640\n",
       "James Ward-Prowse        10.736066"
      ]
     },
     "execution_count": 27,
     "metadata": {},
     "output_type": "execute_result"
    }
   ],
   "source": [
    "spadldf[['player', 'vaep_value']].groupby('player').sum().sort_values('vaep_value', ascending=False).head(10)"
   ]
  }
 ],
 "metadata": {
  "kernelspec": {
   "display_name": "venv",
   "language": "python",
   "name": "python3"
  },
  "language_info": {
   "codemirror_mode": {
    "name": "ipython",
    "version": 3
   },
   "file_extension": ".py",
   "mimetype": "text/x-python",
   "name": "python",
   "nbconvert_exporter": "python",
   "pygments_lexer": "ipython3",
   "version": "3.11.2"
  }
 },
 "nbformat": 4,
 "nbformat_minor": 2
}
