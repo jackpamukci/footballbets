{
 "cells": [
  {
   "cell_type": "markdown",
   "metadata": {},
   "source": [
    "Goals\n",
    "\n",
    "be able to access all data in S3 for a given season\n",
    "- events table\n",
    "- player and team match stats\n",
    "- lineups and missing players table\n",
    "- odds table\n",
    "\n",
    "\n",
    "our end goal is to have player and team tables for the season which will facilitate making our features very easily. \n",
    "that means we should have a player table of every performance in the league with vaep, xG, rest days (have to incorporate european fixtures), travel distance (have to manually get coordinates for stadiums),  \n",
    "\n",
    "then wrangle event data to get "
   ]
  },
  {
   "cell_type": "code",
   "execution_count": null,
   "metadata": {},
   "outputs": [],
   "source": [
    "import boto3\n",
    "from dotenv import load_dotenv\n",
    "import os\n",
    "import warnings\n",
    "from io import StringIO\n",
    "import pandas as pd\n",
    "import socceraction.spadl as spadl\n",
    "\n",
    "pd.set_option('display.max_columns', 500)\n",
    "pd.set_option('display.max_rows', 500)\n",
    "warnings.filterwarnings('ignore')\n",
    "\n",
    "load_dotenv()\n",
    "aws_access_key = os.getenv('AWS_ACCESS_KEY')\n",
    "aws_secret_access = os.getenv('AWS_SECRET_ACCESS')\n",
    "aws_region = os.getenv('AWS_REGION')\n",
    "\n",
    "s3 = boto3.client('s3',\n",
    "                aws_access_key_id=aws_access_key,\n",
    "                aws_secret_access_key=aws_secret_access,\n",
    "                region_name=aws_region)\n",
    "\n",
    "bucket = 'footballbets'\n",
    "league = \"FRA-Ligue 1\"\n",
    "season = 2223"
   ]
  },
  {
   "cell_type": "code",
   "execution_count": null,
   "metadata": {},
   "outputs": [],
   "source": [
    "s3_event = s3.get_object(Bucket=bucket, Key=f'{league}/{season}/events_spadl.csv')\n",
    "event_data = pd.read_csv(StringIO(s3_event['Body'].read().decode('utf-8')))"
   ]
  },
  {
   "cell_type": "code",
   "execution_count": null,
   "metadata": {},
   "outputs": [],
   "source": [
    "event_data.head()"
   ]
  },
  {
   "cell_type": "code",
   "execution_count": null,
   "metadata": {},
   "outputs": [],
   "source": [
    "event_data.type.unique()"
   ]
  },
  {
   "cell_type": "code",
   "execution_count": null,
   "metadata": {},
   "outputs": [],
   "source": [
    "[item for item in event_data[event_data['type'] == 'Pass'].qualifiers]"
   ]
  },
  {
   "cell_type": "code",
   "execution_count": null,
   "metadata": {},
   "outputs": [],
   "source": [
    "next_event = event_data.shift(-1, fill_value=0)\n"
   ]
  },
  {
   "cell_type": "code",
   "execution_count": null,
   "metadata": {},
   "outputs": [],
   "source": [
    "spadl_e = s3.get_object(Bucket=bucket, Key=f'ENG-Premier League/2223/events_spadl.csv')\n",
    "spadldf = pd.read_csv(StringIO(spadl_e['Body'].read().decode('utf-8')))\n",
    "spadldf = spadl.add_names(spadldf)"
   ]
  },
  {
   "cell_type": "code",
   "execution_count": null,
   "metadata": {},
   "outputs": [],
   "source": [
    "sample[(sample['nextEvent'].isin(['interception', 'tackle'])) & (sample['result_name'] == 'success')].type_name.value_counts()"
   ]
  },
  {
   "cell_type": "code",
   "execution_count": null,
   "metadata": {},
   "outputs": [],
   "source": [
    "sample.result_name.value_counts()"
   ]
  },
  {
   "cell_type": "code",
   "execution_count": null,
   "metadata": {},
   "outputs": [],
   "source": [
    "sample = spadldf[spadldf['game_id'] == 1640952]"
   ]
  },
  {
   "cell_type": "code",
   "execution_count": 264,
   "metadata": {},
   "outputs": [
    {
     "name": "stdout",
     "output_type": "stream",
     "text": [
      "Collecting matplotlib\n",
      "  Downloading matplotlib-3.9.1-cp311-cp311-win_amd64.whl (8.0 MB)\n",
      "     ---------------------------------------- 8.0/8.0 MB 8.0 MB/s eta 0:00:00\n",
      "Collecting contourpy>=1.0.1\n",
      "  Using cached contourpy-1.2.1-cp311-cp311-win_amd64.whl (188 kB)\n",
      "Collecting cycler>=0.10\n",
      "  Using cached cycler-0.12.1-py3-none-any.whl (8.3 kB)\n",
      "Collecting fonttools>=4.22.0\n",
      "  Downloading fonttools-4.53.1-cp311-cp311-win_amd64.whl (2.2 MB)\n",
      "     ---------------------------------------- 2.2/2.2 MB 9.3 MB/s eta 0:00:00\n",
      "Collecting kiwisolver>=1.3.1\n",
      "  Using cached kiwisolver-1.4.5-cp311-cp311-win_amd64.whl (56 kB)\n",
      "Requirement already satisfied: numpy>=1.23 in c:\\users\\rsacc\\desktop\\footballbets\\venv\\lib\\site-packages (from matplotlib) (1.26.4)\n",
      "Requirement already satisfied: packaging>=20.0 in c:\\users\\rsacc\\desktop\\footballbets\\venv\\lib\\site-packages (from matplotlib) (24.1)\n",
      "Collecting pillow>=8\n",
      "  Downloading pillow-10.4.0-cp311-cp311-win_amd64.whl (2.6 MB)\n",
      "     ---------------------------------------- 2.6/2.6 MB 10.2 MB/s eta 0:00:00\n",
      "Requirement already satisfied: pyparsing>=2.3.1 in c:\\users\\rsacc\\desktop\\footballbets\\venv\\lib\\site-packages (from matplotlib) (3.1.2)\n",
      "Requirement already satisfied: python-dateutil>=2.7 in c:\\users\\rsacc\\desktop\\footballbets\\venv\\lib\\site-packages (from matplotlib) (2.9.0.post0)\n",
      "Requirement already satisfied: six>=1.5 in c:\\users\\rsacc\\desktop\\footballbets\\venv\\lib\\site-packages (from python-dateutil>=2.7->matplotlib) (1.16.0)\n",
      "Installing collected packages: pillow, kiwisolver, fonttools, cycler, contourpy, matplotlib\n",
      "Successfully installed contourpy-1.2.1 cycler-0.12.1 fonttools-4.53.1 kiwisolver-1.4.5 matplotlib-3.9.1 pillow-10.4.0\n"
     ]
    },
    {
     "name": "stderr",
     "output_type": "stream",
     "text": [
      "\n",
      "[notice] A new release of pip available: 22.3.1 -> 24.2\n",
      "[notice] To update, run: python.exe -m pip install --upgrade pip\n"
     ]
    }
   ],
   "source": [
    "!pip install matplotlib"
   ]
  },
  {
   "cell_type": "code",
   "execution_count": 306,
   "metadata": {},
   "outputs": [],
   "source": [
    "next_event = sample.shift(-1, fill_value=0)\n",
    "sample[\"nextEvent\"] = next_event[\"type_name\"]\n",
    "sample['kickedOut'] = sample.apply(lambda x: 1 if x['nextEvent'] in ['throw_in', 'goalkick']  else 0, axis=1)\n",
    "\n",
    "sample['nextTeamId'] = next_event['team_id']\n",
    "chain_team = sample.iloc[0]['team_id']\n",
    "period = sample.iloc[0]['period_id']\n",
    "\n",
    "stop_criterion = 0\n",
    "chain = 0\n",
    "sample['possession_chain'] = 0\n",
    "sample['possession_chain_team'] = 0\n",
    "\n",
    "for i, row in sample.iterrows():\n",
    "    sample.at[i, 'possession_chain'] = chain\n",
    "    sample.at[i, 'possession_chain_team'] = chain_team\n",
    "\n",
    "    if row.type_name in ['pass', 'duel', 'take_on', 'dribble']:\n",
    "\n",
    "        if row['result_name'] == 'fail':\n",
    "            if row.nextEvent == 'interception' or row.nextEvent == 'tackle':\n",
    "                stop_criterion += 2\n",
    "            else:\n",
    "                stop_criterion +=1\n",
    "\n",
    "        if row.team_id != row.nextTeamId:\n",
    "            if row.nextEvent == 'dribble' or row.nextEvent == 'pass' or row.nextEvent == 'tackle':\n",
    "                stop_criterion += 2\n",
    "\n",
    "    if row.type_name == 'bad_touch' and row.team_id != row.nextTeamId:\n",
    "        stop_criterion += 2\n",
    "\n",
    "    if row.type_name in ['pass', 'cross', 'freekick_crossed', 'corner_crossed']:\n",
    "        if row.result_name == 'offside':\n",
    "            stop_criterion += 2\n",
    "    if row.type_name in ['shot', 'foul', 'clearance']:\n",
    "        stop_criterion += 2\n",
    "    if row['kickedOut'] == 1:\n",
    "        stop_criterion += 2\n",
    "\n",
    "    if row['period_id'] != period:\n",
    "        chain += 1\n",
    "        stop_criterion = 0\n",
    "        chain_team = row['team_id']\n",
    "        period = row['period_id']\n",
    "        sample.at[i, 'possession_chain'] = chain\n",
    "        sample.at[i, 'possession_chain_team'] = chain_team\n",
    "    \n",
    "    if stop_criterion >= 2:\n",
    "        chain += 1\n",
    "        stop_criterion = 0\n",
    "        chain_team = row['nextTeamId']\n"
   ]
  },
  {
   "cell_type": "code",
   "execution_count": 322,
   "metadata": {},
   "outputs": [
    {
     "data": {
      "text/html": [
       "<div>\n",
       "<style scoped>\n",
       "    .dataframe tbody tr th:only-of-type {\n",
       "        vertical-align: middle;\n",
       "    }\n",
       "\n",
       "    .dataframe tbody tr th {\n",
       "        vertical-align: top;\n",
       "    }\n",
       "\n",
       "    .dataframe thead th {\n",
       "        text-align: right;\n",
       "    }\n",
       "</style>\n",
       "<table border=\"1\" class=\"dataframe\">\n",
       "  <thead>\n",
       "    <tr style=\"text-align: right;\">\n",
       "      <th></th>\n",
       "      <th>game_id</th>\n",
       "      <th>original_event_id</th>\n",
       "      <th>period_id</th>\n",
       "      <th>time_seconds</th>\n",
       "      <th>team_id</th>\n",
       "      <th>player_id</th>\n",
       "      <th>start_x</th>\n",
       "      <th>end_x</th>\n",
       "      <th>start_y</th>\n",
       "      <th>end_y</th>\n",
       "      <th>type_id</th>\n",
       "      <th>result_id</th>\n",
       "      <th>bodypart_id</th>\n",
       "      <th>action_id</th>\n",
       "      <th>player</th>\n",
       "      <th>team</th>\n",
       "      <th>type_name</th>\n",
       "      <th>result_name</th>\n",
       "      <th>bodypart_name</th>\n",
       "      <th>nextEvent</th>\n",
       "      <th>kickedOut</th>\n",
       "      <th>nextTeamId</th>\n",
       "      <th>possession_chain</th>\n",
       "      <th>possession_chain_team</th>\n",
       "    </tr>\n",
       "  </thead>\n",
       "  <tbody>\n",
       "    <tr>\n",
       "      <th>208</th>\n",
       "      <td>1640952</td>\n",
       "      <td>2.510012e+09</td>\n",
       "      <td>1</td>\n",
       "      <td>638.0</td>\n",
       "      <td>29</td>\n",
       "      <td>143595.0</td>\n",
       "      <td>95.445</td>\n",
       "      <td>95.445</td>\n",
       "      <td>35.496</td>\n",
       "      <td>35.496</td>\n",
       "      <td>14</td>\n",
       "      <td>1</td>\n",
       "      <td>2</td>\n",
       "      <td>208</td>\n",
       "      <td>Tomás Soucek</td>\n",
       "      <td>West Ham</td>\n",
       "      <td>keeper_save</td>\n",
       "      <td>success</td>\n",
       "      <td>other</td>\n",
       "      <td>corner_crossed</td>\n",
       "      <td>0</td>\n",
       "      <td>30</td>\n",
       "      <td>40</td>\n",
       "      <td>29</td>\n",
       "    </tr>\n",
       "    <tr>\n",
       "      <th>209</th>\n",
       "      <td>1640952</td>\n",
       "      <td>2.510013e+09</td>\n",
       "      <td>1</td>\n",
       "      <td>666.0</td>\n",
       "      <td>30</td>\n",
       "      <td>355855.0</td>\n",
       "      <td>104.475</td>\n",
       "      <td>96.390</td>\n",
       "      <td>67.660</td>\n",
       "      <td>39.576</td>\n",
       "      <td>5</td>\n",
       "      <td>0</td>\n",
       "      <td>4</td>\n",
       "      <td>209</td>\n",
       "      <td>Dejan Kulusevski</td>\n",
       "      <td>Tottenham</td>\n",
       "      <td>corner_crossed</td>\n",
       "      <td>fail</td>\n",
       "      <td>foot_left</td>\n",
       "      <td>clearance</td>\n",
       "      <td>0</td>\n",
       "      <td>29</td>\n",
       "      <td>40</td>\n",
       "      <td>29</td>\n",
       "    </tr>\n",
       "    <tr>\n",
       "      <th>210</th>\n",
       "      <td>1640952</td>\n",
       "      <td>2.510013e+09</td>\n",
       "      <td>1</td>\n",
       "      <td>667.0</td>\n",
       "      <td>29</td>\n",
       "      <td>332325.0</td>\n",
       "      <td>95.445</td>\n",
       "      <td>80.745</td>\n",
       "      <td>40.936</td>\n",
       "      <td>28.900</td>\n",
       "      <td>18</td>\n",
       "      <td>1</td>\n",
       "      <td>1</td>\n",
       "      <td>210</td>\n",
       "      <td>Declan Rice</td>\n",
       "      <td>West Ham</td>\n",
       "      <td>clearance</td>\n",
       "      <td>success</td>\n",
       "      <td>head</td>\n",
       "      <td>pass</td>\n",
       "      <td>0</td>\n",
       "      <td>30</td>\n",
       "      <td>40</td>\n",
       "      <td>29</td>\n",
       "    </tr>\n",
       "  </tbody>\n",
       "</table>\n",
       "</div>"
      ],
      "text/plain": [
       "     game_id  original_event_id  period_id  time_seconds  team_id  player_id  \\\n",
       "208  1640952       2.510012e+09          1         638.0       29   143595.0   \n",
       "209  1640952       2.510013e+09          1         666.0       30   355855.0   \n",
       "210  1640952       2.510013e+09          1         667.0       29   332325.0   \n",
       "\n",
       "     start_x   end_x  start_y   end_y  type_id  result_id  bodypart_id  \\\n",
       "208   95.445  95.445   35.496  35.496       14          1            2   \n",
       "209  104.475  96.390   67.660  39.576        5          0            4   \n",
       "210   95.445  80.745   40.936  28.900       18          1            1   \n",
       "\n",
       "     action_id            player       team       type_name result_name  \\\n",
       "208        208      Tomás Soucek   West Ham     keeper_save     success   \n",
       "209        209  Dejan Kulusevski  Tottenham  corner_crossed        fail   \n",
       "210        210       Declan Rice   West Ham       clearance     success   \n",
       "\n",
       "    bodypart_name       nextEvent  kickedOut  nextTeamId  possession_chain  \\\n",
       "208         other  corner_crossed          0          30                40   \n",
       "209     foot_left       clearance          0          29                40   \n",
       "210          head            pass          0          30                40   \n",
       "\n",
       "     possession_chain_team  \n",
       "208                     29  \n",
       "209                     29  \n",
       "210                     29  "
      ]
     },
     "execution_count": 322,
     "metadata": {},
     "output_type": "execute_result"
    }
   ],
   "source": [
    "idx = sample[sample['possession_chain'] == 2].index\n",
    "sample[sample['possession_chain'] == 40]\n",
    "\n"
   ]
  },
  {
   "cell_type": "code",
   "execution_count": null,
   "metadata": {},
   "outputs": [],
   "source": []
  },
  {
   "cell_type": "code",
   "execution_count": null,
   "metadata": {},
   "outputs": [],
   "source": [
    "import soccerdata as sd\n",
    "fbref = sd.FBref(leagues=league, seasons=season)"
   ]
  },
  {
   "cell_type": "code",
   "execution_count": null,
   "metadata": {},
   "outputs": [],
   "source": [
    "schedule = fbref.read_schedule()"
   ]
  },
  {
   "cell_type": "code",
   "execution_count": null,
   "metadata": {},
   "outputs": [],
   "source": [
    "schedule.iloc[:380].index[0]"
   ]
  },
  {
   "cell_type": "code",
   "execution_count": null,
   "metadata": {},
   "outputs": [],
   "source": []
  }
 ],
 "metadata": {
  "kernelspec": {
   "display_name": "venv",
   "language": "python",
   "name": "python3"
  },
  "language_info": {
   "codemirror_mode": {
    "name": "ipython",
    "version": 3
   },
   "file_extension": ".py",
   "mimetype": "text/x-python",
   "name": "python",
   "nbconvert_exporter": "python",
   "pygments_lexer": "ipython3",
   "version": "3.11.2"
  }
 },
 "nbformat": 4,
 "nbformat_minor": 2
}
