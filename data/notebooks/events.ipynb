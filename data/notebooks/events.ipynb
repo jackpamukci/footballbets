{
 "cells": [
  {
   "cell_type": "markdown",
   "metadata": {},
   "source": [
    "Goals\n",
    "\n",
    "be able to access all data in S3 for a given season\n",
    "- events table\n",
    "- player and team match stats\n",
    "- lineups and missing players table\n",
    "- odds table\n",
    "\n",
    "\n",
    "our end goal is to have player and team tables for the season which will facilitate making our features very easily. \n",
    "that means we should have a player table of every performance in the league with vaep, xG, rest days (have to incorporate european fixtures), travel distance (have to manually get coordinates for stadiums),  \n",
    "\n",
    "then wrangle event data to get "
   ]
  },
  {
   "cell_type": "code",
   "execution_count": 129,
   "metadata": {},
   "outputs": [],
   "source": [
    "import boto3\n",
    "from dotenv import load_dotenv\n",
    "import os\n",
    "import warnings\n",
    "from io import StringIO\n",
    "import pandas as pd\n",
    "import socceraction.spadl as spadl\n",
    "from tqdm import tqdm\n",
    "import numpy as np\n",
    "import xgboost\n",
    "\n",
    "import sys\n",
    "sys.path.append('..')\n",
    "import utils\n",
    "tqdm.pandas()\n",
    "\n",
    "pd.set_option('display.max_columns', 500)\n",
    "pd.set_option('display.max_rows', 500)\n",
    "warnings.filterwarnings('ignore')\n",
    "\n",
    "load_dotenv()\n",
    "aws_access_key = os.getenv('AWS_ACCESS_KEY')\n",
    "aws_secret_access = os.getenv('AWS_SECRET_ACCESS')\n",
    "aws_region = os.getenv('AWS_REGION')\n",
    "\n",
    "s3 = boto3.client('s3',\n",
    "                aws_access_key_id=aws_access_key,\n",
    "                aws_secret_access_key=aws_secret_access,\n",
    "                region_name=aws_region)\n",
    "\n",
    "bucket = 'footballbets'\n",
    "league = \"ENG-Premier League\"\n",
    "season = 2223"
   ]
  },
  {
   "cell_type": "code",
   "execution_count": 2,
   "metadata": {},
   "outputs": [],
   "source": [
    "spadl_e = s3.get_object(Bucket=bucket, Key=f'ENG-Premier League/2223/events_spadl.csv')\n",
    "spadldf = pd.read_csv(StringIO(spadl_e['Body'].read().decode('utf-8')))\n",
    "spadldf = spadl.add_names(spadldf)\n",
    "\n",
    "scheduler = s3.get_object(Bucket=bucket, Key=f'ENG-Premier League/2223/schedule.csv')\n",
    "schedule = pd.read_csv(StringIO(scheduler['Body'].read().decode('utf-8')))\n",
    "\n",
    "spadldf = spadldf.merge(schedule[['game', 'home_team_id', 'ws_game_id']].rename(columns={'game':'fixture'}), how='left', left_on='game_id', right_on='ws_game_id')\n",
    "\n",
    "\n",
    "\n",
    "spadldf['prevEvent'] = spadldf.shift(1, fill_value=0)['type_name']\n",
    "spadldf['nextEvent'] = spadldf.shift(-1, fill_value=0)['type_name']\n",
    "spadldf['nextTeamId'] = spadldf.shift(-1, fill_value=0)['team_id']"
   ]
  },
  {
   "cell_type": "markdown",
   "metadata": {},
   "source": [
    "## Possession Sequences"
   ]
  },
  {
   "cell_type": "code",
   "execution_count": null,
   "metadata": {},
   "outputs": [],
   "source": [
    "import importlib\n",
    "importlib.reload(utils)"
   ]
  },
  {
   "cell_type": "code",
   "execution_count": 152,
   "metadata": {},
   "outputs": [
    {
     "name": "stderr",
     "output_type": "stream",
     "text": [
      "100%|██████████| 380/380 [01:04<00:00,  5.91it/s]\n"
     ]
    }
   ],
   "source": [
    "spadldf = utils.get_season_possessions(spadldf)"
   ]
  },
  {
   "cell_type": "markdown",
   "metadata": {},
   "source": [
    "## xG"
   ]
  },
  {
   "cell_type": "code",
   "execution_count": 35,
   "metadata": {},
   "outputs": [],
   "source": [
    "import math\n",
    "import numpy as np\n",
    "def calculate_relative_angle(x, y):\n",
    "    try:\n",
    "        # Coordinates of the goalposts\n",
    "        goal_x = 105\n",
    "        left_goalpost_y = 30.34\n",
    "        right_goalpost_y = 37.66\n",
    "        goal_center_y = 34\n",
    "        \n",
    "        # Validate inputs\n",
    "        if not (0 <= x <= 105) or not (0 <= y <= 68):\n",
    "            raise ValueError(\"Coordinates out of bounds.\")\n",
    "        \n",
    "        # Calculate the angles from the player's position to each goalpost\n",
    "        angle_to_left_post = math.atan2(left_goalpost_y - y, goal_x - x)\n",
    "        angle_to_right_post = math.atan2(right_goalpost_y - y, goal_x - x)\n",
    "        \n",
    "        # Convert angles to degrees\n",
    "        angle_to_left_post_deg = math.degrees(angle_to_left_post)\n",
    "        angle_to_right_post_deg = math.degrees(angle_to_right_post)\n",
    "        \n",
    "        # Calculate the central angle (angle to the goal center)\n",
    "        central_angle = math.atan2(goal_center_y - y, goal_x - x)\n",
    "        central_angle_deg = math.degrees(central_angle)\n",
    "        \n",
    "        # Determine the relative angle\n",
    "        if y > goal_center_y:\n",
    "            relative_angle = abs(angle_to_left_post_deg - central_angle_deg) / 45\n",
    "        else:\n",
    "            relative_angle = abs(angle_to_right_post_deg - central_angle_deg) / 45\n",
    "        \n",
    "        # Ensure the relative angle is between 0 and 1\n",
    "        relative_angle = max(0, min(1, relative_angle))\n",
    "        \n",
    "        return relative_angle\n",
    "    \n",
    "    except ValueError as e:\n",
    "        print(f\"ValueError: {e}\")\n",
    "        return None\n",
    "\n",
    "def calculate_inverse(value):\n",
    "    try:\n",
    "        inverse = 1 / value\n",
    "        return inverse\n",
    "    except ZeroDivisionError:\n",
    "        return float('inf')  # Return infinity if the value is zero"
   ]
  },
  {
   "cell_type": "code",
   "execution_count": 37,
   "metadata": {},
   "outputs": [],
   "source": [
    "# Calculate type of possession ('goalkick', 'freekick_short', 'freekick_crossed', 'corner_crossed', 'corner_short')\n",
    "def calculate_play_type(group):\n",
    "    first_event = group.iloc[0]\n",
    "    highest_x_event = group.loc[group['start_x'].idxmax()]\n",
    "\n",
    "    if first_event.type_name in ['goalkick', 'freekick_short', 'freekick_crossed', 'corner_crossed', 'corner_short']:\n",
    "        return first_event.type_name.split('_')[0]\n",
    "\n",
    "\n",
    "    if ((highest_x_event.time_seconds - first_event.time_seconds < 13) and \n",
    "            (highest_x_event.start_x > 85) and (first_event.start_x < 55) and (first_event.type_name not in ['goalkick', 'freekick_short', 'freekick_crossed', 'foul', 'corner_crossed', 'corner_short'])):\n",
    "        return 'counter'\n",
    "    \n",
    "    return 'normal'\n",
    "\n",
    "def get_xg_features(spadldf):\n",
    "\n",
    "    # xG Distance and Angle\n",
    "    spadldf['xG_distance'] = np.sqrt((spadldf['start_x'] - 105)**2 + (spadldf['start_y'] - 34)**2)\n",
    "    spadldf['xG_angle'] = spadldf.apply(lambda x: calculate_relative_angle(x.start_x, x.start_y), axis=1)\n",
    "    spadldf['xG_distance_inv'] = 1 / spadldf.xG_distance\n",
    "    spadldf['xG_angle_inv'] = 1 / spadldf.xG_angle\n",
    "    spadldf['dist_ang_inv'] = 1 / (spadldf.xG_distance * spadldf.xG_angle)\n",
    "\n",
    "    # Previous Play Types (Dribble, Throughball, Cutback, Cross, Corner, Freekick)\n",
    "    spadldf['pass_d'] = np.sqrt((spadldf['start_x'] - spadldf['end_x'])**2 + (spadldf['start_y'] - spadldf['end_y'])**2)\n",
    "    spadldf['is_forward'] = spadldf.start_x < spadldf.end_x\n",
    "    spadldf['pass_angle'] = np.degrees(np.arctan2(spadldf['end_y'] - spadldf['start_y'], spadldf['end_x'] - spadldf['start_x']))\n",
    "    spadldf['is_wide_area'] = ((spadldf['start_y'] < 20) | (spadldf['start_y'] > 48)) & (spadldf['start_x'] > 88)\n",
    "\n",
    "    through_conditions = (spadldf['is_forward']) & (spadldf['pass_d'] > 15) & (abs(spadldf['pass_angle']) < 45) & (spadldf['type_name'] == 'pass') & (spadldf['nextEvent'] == 'shot')\n",
    "    cutback_conditions = (~spadldf['is_forward']) & (spadldf['is_wide_area']) & (4 < spadldf['pass_d']) & (spadldf['pass_d'] < 20) & (abs(spadldf['pass_angle']) > 30) & (spadldf['type_name'] == 'pass') & (spadldf['nextEvent'] == 'shot')\n",
    "\n",
    "    spadldf['is_cutback'] = pd.Series(np.where(cutback_conditions, True, False)).shift(1)\n",
    "    spadldf['is_throughball'] = pd.Series(np.where(through_conditions, True, False)).shift(1)\n",
    "    spadldf['after_dribble'] = np.where((spadldf['type_name'] == 'shot') & (spadldf['prevEvent'].isin(['dribble', 'takeon'])), True, False)\n",
    "\n",
    "    spadldf['is_corner'] = np.where(((spadldf['type_name'] == 'shot') & (spadldf['prevEvent'] == 'cross')), True, False)\n",
    "    spadldf['is_cross'] = np.where(((spadldf['type_name'] == 'shot') & (spadldf['prevEvent'] == 'corner_crossed')), True, False)\n",
    "    spadldf['is_freekick'] = np.where(((spadldf['type_name'] == 'shot') & (spadldf['prevEvent'] == 'freekick_crossed')), True, False)\n",
    "\n",
    "    # if goal was scored and body part used\n",
    "    spadldf['body'] = np.where((spadldf.bodypart_name.isin(['foot', 'foot_right', 'foot_left'])), 'foot', 'header')\n",
    "    spadldf['goal'] = np.where((spadldf.type_name == 'shot') & (spadldf.result_name == 'success'), True, False)\n",
    "\n",
    "    # Takes long time\n",
    "    spadldf['play_type'] = spadldf.groupby('possession_chain')['start_x'].transform(lambda x: calculate_play_type(spadldf.loc[x.index]))\n",
    "\n",
    "    return spadldf\n"
   ]
  },
  {
   "cell_type": "code",
   "execution_count": 90,
   "metadata": {},
   "outputs": [
    {
     "data": {
      "text/plain": [
       "0.12401667505744018"
      ]
     },
     "execution_count": 90,
     "metadata": {},
     "output_type": "execute_result"
    }
   ],
   "source": [
    "from sklearn.preprocessing import MinMaxScaler\n",
    "from sklearn.linear_model import LogisticRegression\n",
    "\n",
    "scaler = MinMaxScaler()\n",
    "\n",
    "# Split into foot and header shots / Get Dummies / Normalize Values\n",
    "num_cols = ['xG_distance', 'xG_angle', 'xG_distance_inv', 'xG_angle_inv', 'dist_ang_inv']\n",
    "bool_cols = ['is_corner', 'is_cross', 'is_freekick', 'is_cutback', 'is_throughball', 'after_dribble', 'play_type', 'goal']\n",
    "\n",
    "nor_shots = spadldf[(spadldf['type_name'].isin(['shot', 'shot_freekick'])) & (spadldf['body'] == 'foot')][num_cols + bool_cols]\n",
    "nor_shots = pd.concat([nor_shots, pd.get_dummies(nor_shots['play_type'])], axis=1).drop('play_type', axis=1)\n",
    "\n",
    "headers = spadldf[(spadldf['type_name'] == 'shot') & (spadldf['body'] == 'header')][num_cols + bool_cols]\n",
    "headers = pd.concat([headers, pd.get_dummies(headers['play_type'])], axis=1).drop('play_type', axis=1)\n",
    "bool_cols.remove('play_type')\n",
    "\n",
    "nor_shots[num_cols] = scaler.fit_transform(nor_shots[num_cols])\n",
    "nor_shots[bool_cols] = nor_shots[bool_cols].astype(int)\n",
    "\n",
    "headers[num_cols] = scaler.fit_transform(headers[num_cols])\n",
    "headers[bool_cols] = headers[bool_cols].astype(int)\n",
    "\n",
    "# Train Data\n",
    "\n",
    "X_f = nor_shots.drop('goal', axis=1)\n",
    "y_f = nor_shots['goal']\n",
    "X_h = headers.drop('goal', axis=1)\n",
    "y_h = headers['goal']\n",
    "\n",
    "head_model = LogisticRegression()\n",
    "foot_model = LogisticRegression()\n",
    "\n",
    "head_model.fit(X_h, y_h)\n",
    "foot_model.fit(X_f, y_f)\n",
    "\n",
    "y_pred_f = foot_model.predict_proba(X_f)[:, 1]\n",
    "y_pred_h = head_model.predict_proba(X_h)[:, 1]\n",
    "\n",
    "# get back into normal dataframe\n",
    "\n",
    "X_f['xG'] = y_pred_f\n",
    "X_h['xG'] = y_pred_h\n",
    "\n",
    "spadldf = spadldf.merge(X_h['xG'], how='left', left_index=True, right_index=True)\n",
    "spadldf = spadldf.merge(X_f['xG'], how='left', left_index=True, right_index=True)\n",
    "spadldf['xG'] = spadldf['xG_x'].combine_first(spadldf['xG_y'])\n",
    "spadldf.drop(['xG_x', 'xG_y'], axis=1, inplace=True)\n",
    "\n",
    "spadldf.loc[spadldf.type_name == 'shot_penalty', 'xG'] = .76"
   ]
  },
  {
   "cell_type": "code",
   "execution_count": 154,
   "metadata": {},
   "outputs": [
    {
     "name": "stderr",
     "output_type": "stream",
     "text": [
      "Calculating play types: 100%|██████████| 112764/112764 [01:05<00:00, 1733.17it/s]\n"
     ]
    }
   ],
   "source": [
    "from xg import xg\n",
    "xgm = xg(spadldf)\n",
    "spadldf['xG'] = xgm.get_xg()"
   ]
  },
  {
   "cell_type": "code",
   "execution_count": 116,
   "metadata": {},
   "outputs": [
    {
     "data": {
      "text/plain": [
       "0.15537494505886906"
      ]
     },
     "execution_count": 116,
     "metadata": {},
     "output_type": "execute_result"
    }
   ],
   "source": [
    "xG_ser = spadldf[spadldf['type_name'].isin(['shot', 'shot_freekick', 'shot_penalty'])].xG\n",
    "ground_truth = spadldf[spadldf['type_name'].isin(['shot', 'shot_freekick', 'shot_penalty'])].result_id\n",
    "\n",
    "metrics.r2_score(ground_truth, xG_ser)"
   ]
  },
  {
   "cell_type": "code",
   "execution_count": 155,
   "metadata": {},
   "outputs": [
    {
     "data": {
      "text/html": [
       "<div>\n",
       "<style scoped>\n",
       "    .dataframe tbody tr th:only-of-type {\n",
       "        vertical-align: middle;\n",
       "    }\n",
       "\n",
       "    .dataframe tbody tr th {\n",
       "        vertical-align: top;\n",
       "    }\n",
       "\n",
       "    .dataframe thead th {\n",
       "        text-align: right;\n",
       "    }\n",
       "</style>\n",
       "<table border=\"1\" class=\"dataframe\">\n",
       "  <thead>\n",
       "    <tr style=\"text-align: right;\">\n",
       "      <th></th>\n",
       "      <th>xg_2</th>\n",
       "    </tr>\n",
       "    <tr>\n",
       "      <th>player</th>\n",
       "      <th></th>\n",
       "    </tr>\n",
       "  </thead>\n",
       "  <tbody>\n",
       "    <tr>\n",
       "      <th>Erling Haaland</th>\n",
       "      <td>23.214673</td>\n",
       "    </tr>\n",
       "    <tr>\n",
       "      <th>Mohamed Salah</th>\n",
       "      <td>19.236746</td>\n",
       "    </tr>\n",
       "    <tr>\n",
       "      <th>Harry Kane</th>\n",
       "      <td>18.598679</td>\n",
       "    </tr>\n",
       "    <tr>\n",
       "      <th>Ivan Toney</th>\n",
       "      <td>17.722215</td>\n",
       "    </tr>\n",
       "    <tr>\n",
       "      <th>Callum Wilson</th>\n",
       "      <td>14.250796</td>\n",
       "    </tr>\n",
       "    <tr>\n",
       "      <th>Aleksandar Mitrovic</th>\n",
       "      <td>13.661042</td>\n",
       "    </tr>\n",
       "    <tr>\n",
       "      <th>Ollie Watkins</th>\n",
       "      <td>13.387657</td>\n",
       "    </tr>\n",
       "    <tr>\n",
       "      <th>Gabriel Jesus</th>\n",
       "      <td>12.715813</td>\n",
       "    </tr>\n",
       "    <tr>\n",
       "      <th>Marcus Rashford</th>\n",
       "      <td>12.383760</td>\n",
       "    </tr>\n",
       "    <tr>\n",
       "      <th>Dominic Solanke</th>\n",
       "      <td>11.578854</td>\n",
       "    </tr>\n",
       "  </tbody>\n",
       "</table>\n",
       "</div>"
      ],
      "text/plain": [
       "                          xg_2\n",
       "player                        \n",
       "Erling Haaland       23.214673\n",
       "Mohamed Salah        19.236746\n",
       "Harry Kane           18.598679\n",
       "Ivan Toney           17.722215\n",
       "Callum Wilson        14.250796\n",
       "Aleksandar Mitrovic  13.661042\n",
       "Ollie Watkins        13.387657\n",
       "Gabriel Jesus        12.715813\n",
       "Marcus Rashford      12.383760\n",
       "Dominic Solanke      11.578854"
      ]
     },
     "execution_count": 155,
     "metadata": {},
     "output_type": "execute_result"
    }
   ],
   "source": [
    "spadldf[['player', 'xg_2']].groupby('player').sum().sort_values('xg_2', ascending=False).head(10)"
   ]
  },
  {
   "cell_type": "markdown",
   "metadata": {},
   "source": [
    "## VAEP"
   ]
  },
  {
   "cell_type": "code",
   "execution_count": null,
   "metadata": {},
   "outputs": [],
   "source": [
    "import socceraction.vaep.features as fs\n",
    "import socceraction.vaep.labels as lab\n",
    "\n",
    "gamestates = fs.gamestates(spadldf, 3)\n",
    "xfns = [\n",
    "            fs.actiontype_onehot,\n",
    "            fs.result_onehot,\n",
    "            fs.bodypart_onehot,\n",
    "            fs.startlocation,\n",
    "            fs.endlocation,\n",
    "            fs.startpolar,\n",
    "            fs.endpolar,\n",
    "            fs.movement,\n",
    "            fs.time_delta,\n",
    "            fs.space_delta,\n",
    "            fs.goalscore,\n",
    "            fs.time,\n",
    "        ]\n",
    "\n",
    "yfns = [lab.scores, lab.concedes]\n",
    "\n",
    "X = pd.concat([fn(gamestates) for fn in xfns], axis=1)\n",
    "y = pd.concat([fn(spadldf) for fn in yfns], axis=1)"
   ]
  },
  {
   "cell_type": "code",
   "execution_count": 151,
   "metadata": {},
   "outputs": [
    {
     "data": {
      "text/plain": [
       "<module 'utils' from 'c:\\\\Users\\\\rsacc\\\\Desktop\\\\footballbets\\\\data\\\\notebooks\\\\..\\\\utils.py'>"
      ]
     },
     "execution_count": 151,
     "metadata": {},
     "output_type": "execute_result"
    }
   ],
   "source": []
  },
  {
   "cell_type": "code",
   "execution_count": 132,
   "metadata": {},
   "outputs": [],
   "source": [
    "pscores = utils.ProbabityModel(\n",
    "    model=xgboost.XGBClassifier(n_estimators=50, max_depth=3, n_jobs=-3, verbosity=1),\n",
    "    model_type=\"classifier\"\n",
    ")\n",
    "pscores.train(X, y[[\"scores\"]])\n",
    "\n",
    "pconcedes = utils.ProbabityModel(\n",
    "    model=xgboost.XGBClassifier(n_estimators=50, max_depth=3, n_jobs=-3, verbosity=1),\n",
    "    model_type=\"classifier\"\n",
    ")\n",
    "pconcedes.train(X, y[[\"concedes\"]])\n"
   ]
  },
  {
   "cell_type": "code",
   "execution_count": 134,
   "metadata": {},
   "outputs": [],
   "source": [
    "models = {\n",
    "  \"scores\": pscores,\n",
    "  \"concedes\": pconcedes\n",
    "}\n",
    "\n",
    "y_hat = pd.DataFrame(columns=['scores', 'concedes'])\n",
    "\n",
    "for col in ['scores', 'concedes']:\n",
    "    y_hat[col] = models[col].predict(X)"
   ]
  },
  {
   "cell_type": "code",
   "execution_count": 135,
   "metadata": {},
   "outputs": [],
   "source": [
    "import socceraction.vaep.formula as vaepformula\n",
    "values = vaepformula.value(spadldf, y_hat[\"scores\"], y_hat[\"concedes\"])\n",
    "spadldf = pd.concat([spadldf, values], axis=1)"
   ]
  },
  {
   "cell_type": "code",
   "execution_count": 148,
   "metadata": {},
   "outputs": [
    {
     "data": {
      "text/html": [
       "<div>\n",
       "<style scoped>\n",
       "    .dataframe tbody tr th:only-of-type {\n",
       "        vertical-align: middle;\n",
       "    }\n",
       "\n",
       "    .dataframe tbody tr th {\n",
       "        vertical-align: top;\n",
       "    }\n",
       "\n",
       "    .dataframe thead th {\n",
       "        text-align: right;\n",
       "    }\n",
       "</style>\n",
       "<table border=\"1\" class=\"dataframe\">\n",
       "  <thead>\n",
       "    <tr style=\"text-align: right;\">\n",
       "      <th></th>\n",
       "      <th>vaep_value</th>\n",
       "    </tr>\n",
       "    <tr>\n",
       "      <th>player</th>\n",
       "      <th></th>\n",
       "    </tr>\n",
       "  </thead>\n",
       "  <tbody>\n",
       "    <tr>\n",
       "      <th>Kieran Trippier</th>\n",
       "      <td>17.933631</td>\n",
       "    </tr>\n",
       "    <tr>\n",
       "      <th>Martin Ødegaard</th>\n",
       "      <td>16.865478</td>\n",
       "    </tr>\n",
       "    <tr>\n",
       "      <th>Harry Kane</th>\n",
       "      <td>15.117221</td>\n",
       "    </tr>\n",
       "    <tr>\n",
       "      <th>Kevin De Bruyne</th>\n",
       "      <td>14.192955</td>\n",
       "    </tr>\n",
       "    <tr>\n",
       "      <th>Trent Alexander-Arnold</th>\n",
       "      <td>13.158614</td>\n",
       "    </tr>\n",
       "    <tr>\n",
       "      <th>Erling Haaland</th>\n",
       "      <td>12.971816</td>\n",
       "    </tr>\n",
       "    <tr>\n",
       "      <th>Mathias Jensen</th>\n",
       "      <td>12.927472</td>\n",
       "    </tr>\n",
       "    <tr>\n",
       "      <th>Gabriel Martinelli</th>\n",
       "      <td>11.260491</td>\n",
       "    </tr>\n",
       "    <tr>\n",
       "      <th>Marcus Rashford</th>\n",
       "      <td>11.150640</td>\n",
       "    </tr>\n",
       "    <tr>\n",
       "      <th>James Ward-Prowse</th>\n",
       "      <td>10.736066</td>\n",
       "    </tr>\n",
       "  </tbody>\n",
       "</table>\n",
       "</div>"
      ],
      "text/plain": [
       "                        vaep_value\n",
       "player                            \n",
       "Kieran Trippier          17.933631\n",
       "Martin Ødegaard          16.865478\n",
       "Harry Kane               15.117221\n",
       "Kevin De Bruyne          14.192955\n",
       "Trent Alexander-Arnold   13.158614\n",
       "Erling Haaland           12.971816\n",
       "Mathias Jensen           12.927472\n",
       "Gabriel Martinelli       11.260491\n",
       "Marcus Rashford          11.150640\n",
       "James Ward-Prowse        10.736066"
      ]
     },
     "execution_count": 148,
     "metadata": {},
     "output_type": "execute_result"
    }
   ],
   "source": [
    "spadldf[['player', 'vaep_value']].groupby('player').sum().sort_values('vaep_value', ascending=False).head(10)"
   ]
  }
 ],
 "metadata": {
  "kernelspec": {
   "display_name": "venv",
   "language": "python",
   "name": "python3"
  },
  "language_info": {
   "codemirror_mode": {
    "name": "ipython",
    "version": 3
   },
   "file_extension": ".py",
   "mimetype": "text/x-python",
   "name": "python",
   "nbconvert_exporter": "python",
   "pygments_lexer": "ipython3",
   "version": "3.11.2"
  }
 },
 "nbformat": 4,
 "nbformat_minor": 2
}
