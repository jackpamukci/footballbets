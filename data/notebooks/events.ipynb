{
 "cells": [
  {
   "cell_type": "markdown",
   "metadata": {},
   "source": [
    "Goals\n",
    "\n",
    "be able to access all data in S3 for a given season\n",
    "- events table\n",
    "- player and team match stats\n",
    "- lineups and missing players table\n",
    "- odds table\n",
    "\n",
    "\n",
    "our end goal is to have player and team tables for the season which will facilitate making our features very easily. \n",
    "that means we should have a player table of every performance in the league with vaep, xG, rest days (have to incorporate european fixtures), travel distance (have to manually get coordinates for stadiums),  \n",
    "\n",
    "then wrangle event data to get "
   ]
  },
  {
   "cell_type": "code",
   "execution_count": null,
   "metadata": {},
   "outputs": [],
   "source": [
    "import boto3\n",
    "from dotenv import load_dotenv\n",
    "import os\n",
    "import warnings\n",
    "from io import StringIO\n",
    "import pandas as pd\n",
    "import socceraction.spadl as spadl\n",
    "\n",
    "pd.set_option('display.max_columns', 500)\n",
    "pd.set_option('display.max_rows', 500)\n",
    "warnings.filterwarnings('ignore')\n",
    "\n",
    "load_dotenv()\n",
    "aws_access_key = os.getenv('AWS_ACCESS_KEY')\n",
    "aws_secret_access = os.getenv('AWS_SECRET_ACCESS')\n",
    "aws_region = os.getenv('AWS_REGION')\n",
    "\n",
    "s3 = boto3.client('s3',\n",
    "                aws_access_key_id=aws_access_key,\n",
    "                aws_secret_access_key=aws_secret_access,\n",
    "                region_name=aws_region)\n",
    "\n",
    "bucket = 'footballbets'\n",
    "league = \"FRA-Ligue 1\"\n",
    "season = 2223"
   ]
  },
  {
   "cell_type": "code",
   "execution_count": null,
   "metadata": {},
   "outputs": [],
   "source": [
    "s3_event = s3.get_object(Bucket=bucket, Key=f'{league}/{season}/events_spadl.csv')\n",
    "event_data = pd.read_csv(StringIO(s3_event['Body'].read().decode('utf-8')))"
   ]
  },
  {
   "cell_type": "code",
   "execution_count": null,
   "metadata": {},
   "outputs": [],
   "source": [
    "event_data.head()"
   ]
  },
  {
   "cell_type": "code",
   "execution_count": null,
   "metadata": {},
   "outputs": [],
   "source": [
    "event_data.type.unique()"
   ]
  },
  {
   "cell_type": "code",
   "execution_count": null,
   "metadata": {},
   "outputs": [],
   "source": [
    "[item for item in event_data[event_data['type'] == 'Pass'].qualifiers]"
   ]
  },
  {
   "cell_type": "code",
   "execution_count": null,
   "metadata": {},
   "outputs": [],
   "source": [
    "next_event = event_data.shift(-1, fill_value=0)\n"
   ]
  },
  {
   "cell_type": "code",
   "execution_count": null,
   "metadata": {},
   "outputs": [],
   "source": [
    "spadl_e = s3.get_object(Bucket=bucket, Key=f'ENG-Premier League/2223/events_spadl.csv')\n",
    "spadldf = pd.read_csv(StringIO(spadl_e['Body'].read().decode('utf-8')))\n",
    "spadldf = spadl.add_names(spadldf)"
   ]
  },
  {
   "cell_type": "code",
   "execution_count": null,
   "metadata": {},
   "outputs": [],
   "source": [
    "sample[(sample['nextEvent'].isin(['interception', 'tackle'])) & (sample['result_name'] == 'success')].type_name.value_counts()"
   ]
  },
  {
   "cell_type": "code",
   "execution_count": null,
   "metadata": {},
   "outputs": [],
   "source": [
    "sample.result_name.value_counts()"
   ]
  },
  {
   "cell_type": "code",
   "execution_count": null,
   "metadata": {},
   "outputs": [],
   "source": [
    "sample = spadldf[spadldf['game_id'] == 1640952]"
   ]
  },
  {
   "cell_type": "code",
   "execution_count": null,
   "metadata": {},
   "outputs": [],
   "source": [
    "next_event = sample.shift(-1, fill_value=0)\n",
    "sample[\"nextEvent\"] = next_event[\"type_name\"]\n",
    "sample['kickedOut'] = sample.apply(lambda x: 1 if x['nextEvent'] == 'throw_in' else 0, axis=1)\n",
    "\n",
    "sample['nextTeamId'] = next_event['team_id']\n",
    "chain_team = sample.iloc[0]['team_id']\n",
    "period = sample.iloc[0]['period_id']\n",
    "\n",
    "stop_criterion = 0\n",
    "chain = 0\n",
    "sample['possession_chain'] = 0\n",
    "sample['possession_chain_team'] = 0\n",
    "\n",
    "for i, row in sample.iterrows():\n",
    "    sample.at[i, 'possession_chain'] = chain\n",
    "    sample.at[i, 'possession_chain_team'] = chain_team\n",
    "\n",
    "    if row.type_name in ['pass', 'duel', 'dribble']:\n",
    "\n",
    "        if row['result_name'] == 'fail':\n",
    "            if row.nextEvent == 'interception' or row.nextEvent == 'tackle':\n",
    "                stop_criterion += 2\n",
    "            else:\n",
    "                stop_criterion +=1\n",
    "\n",
    "        if row.team_id != row.nextTeamId:\n",
    "            if row.nextEvent == 'dribble' or row.nextEvent == 'pass' or row.nextEvent == 'tackle':\n",
    "                stop_criterion += 2\n",
    "\n",
    "    # if row.type_name == 'interception' or row.type_name == 'tackle':\n",
    "    #     if row.result_name == 'success':\n",
    "    #         stop_criterion += 2\n",
    "\n",
    "    if row.type_name in ['pass', 'cross', 'freekick_crossed', 'corner_crossed']:\n",
    "        if row.result_name == 'offside':\n",
    "            stop_criterion += 2\n",
    "    if row.type_name in ['shot', 'foul', 'clearance']:\n",
    "        stop_criterion += 2\n",
    "    if row['kickedOut'] == 1:\n",
    "        stop_criterion += 2\n",
    "\n",
    "    if row['period_id'] != period:\n",
    "        chain += 1\n",
    "        stop_criterion = 0\n",
    "        chain_team = row['team_id']\n",
    "        period = row['period_id']\n",
    "        sample.at[i, 'possession_chain'] = chain\n",
    "        sample.at[i, 'possession_chain_team'] = chain_team\n",
    "    \n",
    "    if stop_criterion >= 2:\n",
    "        chain += 1\n",
    "        stop_criterion = 0\n",
    "        chain_team = row['nextTeamId']\n"
   ]
  },
  {
   "cell_type": "code",
   "execution_count": null,
   "metadata": {},
   "outputs": [],
   "source": [
    "sample[sample['possession_chain'] == 19]"
   ]
  },
  {
   "cell_type": "code",
   "execution_count": null,
   "metadata": {},
   "outputs": [],
   "source": []
  },
  {
   "cell_type": "code",
   "execution_count": null,
   "metadata": {},
   "outputs": [],
   "source": [
    "import soccerdata as sd\n",
    "fbref = sd.FBref(leagues=league, seasons=season)"
   ]
  },
  {
   "cell_type": "code",
   "execution_count": null,
   "metadata": {},
   "outputs": [],
   "source": [
    "schedule = fbref.read_schedule()"
   ]
  },
  {
   "cell_type": "code",
   "execution_count": null,
   "metadata": {},
   "outputs": [],
   "source": [
    "schedule.iloc[:380].index[0]"
   ]
  },
  {
   "cell_type": "code",
   "execution_count": null,
   "metadata": {},
   "outputs": [],
   "source": []
  }
 ],
 "metadata": {
  "kernelspec": {
   "display_name": "venv",
   "language": "python",
   "name": "python3"
  },
  "language_info": {
   "codemirror_mode": {
    "name": "ipython",
    "version": 3
   },
   "file_extension": ".py",
   "mimetype": "text/x-python",
   "name": "python",
   "nbconvert_exporter": "python",
   "pygments_lexer": "ipython3",
   "version": "3.11.2"
  }
 },
 "nbformat": 4,
 "nbformat_minor": 2
}
