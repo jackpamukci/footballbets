{
 "cells": [
  {
   "cell_type": "markdown",
   "metadata": {},
   "source": [
    "Goals\n",
    "\n",
    "be able to access all data in S3 for a given season\n",
    "- events table\n",
    "- player and team match stats\n",
    "- lineups and missing players table\n",
    "- odds table\n",
    "\n",
    "\n",
    "our end goal is to have player and team tables for the season which will facilitate making our features very easily. \n",
    "that means we should have a player table of every performance in the league with vaep, xG, rest days (have to incorporate european fixtures), travel distance (have to manually get coordinates for stadiums),  \n",
    "\n",
    "then wrangle event data to get "
   ]
  },
  {
   "cell_type": "code",
   "execution_count": null,
   "metadata": {},
   "outputs": [],
   "source": [
    "import boto3\n",
    "from dotenv import load_dotenv\n",
    "import os\n",
    "import warnings\n",
    "from io import StringIO\n",
    "import pandas as pd\n",
    "import socceraction.spadl as spadl\n",
    "from tqdm import tqdm\n",
    "import numpy as np\n",
    "\n",
    "import sys\n",
    "sys.path.append('..')\n",
    "import utils\n",
    "tqdm.pandas()\n",
    "\n",
    "pd.set_option('display.max_columns', 500)\n",
    "pd.set_option('display.max_rows', 500)\n",
    "warnings.filterwarnings('ignore')\n",
    "\n",
    "load_dotenv()\n",
    "aws_access_key = os.getenv('AWS_ACCESS_KEY')\n",
    "aws_secret_access = os.getenv('AWS_SECRET_ACCESS')\n",
    "aws_region = os.getenv('AWS_REGION')\n",
    "\n",
    "s3 = boto3.client('s3',\n",
    "                aws_access_key_id=aws_access_key,\n",
    "                aws_secret_access_key=aws_secret_access,\n",
    "                region_name=aws_region)\n",
    "\n",
    "bucket = 'footballbets'\n",
    "league = \"ENG-Premier League\"\n",
    "season = 2223"
   ]
  },
  {
   "cell_type": "code",
   "execution_count": null,
   "metadata": {},
   "outputs": [],
   "source": [
    "spadl_e = s3.get_object(Bucket=bucket, Key=f'ENG-Premier League/2223/events_spadl.csv')\n",
    "spadldf = pd.read_csv(StringIO(spadl_e['Body'].read().decode('utf-8')))\n",
    "spadldf = spadl.add_names(spadldf)\n",
    "\n",
    "scheduler = s3.get_object(Bucket=bucket, Key=f'ENG-Premier League/2223/schedule.csv')\n",
    "schedule = pd.read_csv(StringIO(scheduler['Body'].read().decode('utf-8')))\n",
    "\n",
    "spadldf = spadldf.merge(schedule[['game', 'home_team_id', 'ws_game_id']].rename(columns={'game':'fixture'}), how='left', left_on='game_id', right_on='ws_game_id')\n",
    "\n",
    "\n",
    "\n",
    "spadldf['prevEvent'] = spadldf.shift(1, fill_value=0)['type_name']\n",
    "spadldf['nextEvent'] = spadldf.shift(-1, fill_value=0)['type_name']\n",
    "spadldf['nextTeamId'] = spadldf.shift(-1, fill_value=0)['team_id']"
   ]
  },
  {
   "cell_type": "markdown",
   "metadata": {},
   "source": [
    "## Possession Sequences"
   ]
  },
  {
   "cell_type": "code",
   "execution_count": null,
   "metadata": {},
   "outputs": [],
   "source": [
    "spadldf = utils.get_season_possessions(spadldf)"
   ]
  },
  {
   "cell_type": "markdown",
   "metadata": {},
   "source": [
    "## xG"
   ]
  },
  {
   "cell_type": "code",
   "execution_count": null,
   "metadata": {},
   "outputs": [],
   "source": [
    "from xg import xG\n",
    "xgm = xG(spadldf)\n",
    "spadldf['xG'] = xgm.get_xg()"
   ]
  },
  {
   "cell_type": "code",
   "execution_count": null,
   "metadata": {},
   "outputs": [],
   "source": [
    "from sklearn.metrics import r2_score\n",
    "xG_ser = spadldf[spadldf['type_name'].isin(['shot', 'shot_freekick', 'shot_penalty'])].xG\n",
    "ground_truth = spadldf[spadldf['type_name'].isin(['shot', 'shot_freekick', 'shot_penalty'])].result_id\n",
    "\n",
    "r2_score(ground_truth, xG_ser)"
   ]
  },
  {
   "cell_type": "code",
   "execution_count": null,
   "metadata": {},
   "outputs": [],
   "source": [
    "spadldf[['player', 'xG']].groupby('player').sum().sort_values('xG', ascending=False).head(10)"
   ]
  },
  {
   "cell_type": "markdown",
   "metadata": {},
   "source": [
    "## VAEP"
   ]
  },
  {
   "cell_type": "code",
   "execution_count": null,
   "metadata": {},
   "outputs": [],
   "source": [
    "spadldf = pd.concat([spadldf, utils.get_vaep(spadldf)], axis=1)"
   ]
  },
  {
   "cell_type": "code",
   "execution_count": null,
   "metadata": {},
   "outputs": [],
   "source": [
    "spadldf[['player', 'vaep_value']].groupby('player').sum().sort_values('vaep_value', ascending=False).head(10)"
   ]
  }
 ],
 "metadata": {
  "kernelspec": {
   "display_name": "venv",
   "language": "python",
   "name": "python3"
  },
  "language_info": {
   "codemirror_mode": {
    "name": "ipython",
    "version": 3
   },
   "file_extension": ".py",
   "mimetype": "text/x-python",
   "name": "python",
   "nbconvert_exporter": "python",
   "pygments_lexer": "ipython3",
   "version": "3.11.2"
  }
 },
 "nbformat": 4,
 "nbformat_minor": 2
}
