{
 "cells": [
  {
   "cell_type": "code",
   "execution_count": null,
   "metadata": {},
   "outputs": [],
   "source": [
    "import soccerdata as sd\n",
    "import pandas as pd\n",
    "from tqdm import tqdm\n",
    "pd.set_option('display.max_columns', None)\n",
    "import logging"
   ]
  },
  {
   "cell_type": "code",
   "execution_count": null,
   "metadata": {},
   "outputs": [],
   "source": [
    "import boto3\n",
    "from dotenv import load_dotenv\n",
    "import os\n",
    "from io import StringIO\n",
    "\n",
    "load_dotenv()\n",
    "aws_access_key = os.getenv('AWS_ACCESS_KEY')\n",
    "aws_secret_access = os.getenv('AWS_SECRET_ACCESS')\n",
    "aws_region = os.getenv('AWS_REGION')\n",
    "\n",
    "s3 = boto3.client('s3',\n",
    "                aws_access_key_id=aws_access_key,\n",
    "                aws_secret_access_key=aws_secret_access,\n",
    "                region_name=aws_region)\n",
    "\n",
    "bucket = 'footballbets'"
   ]
  },
  {
   "cell_type": "code",
   "execution_count": null,
   "metadata": {},
   "outputs": [],
   "source": [
    "league = \"ENG-Premier League\"\n",
    "season = 2324"
   ]
  },
  {
   "cell_type": "code",
   "execution_count": null,
   "metadata": {},
   "outputs": [],
   "source": [
    "ws = sd.WhoScored(leagues=league, \n",
    "                  seasons=season)\n",
    "\n",
    "fbref = sd.FBref(leagues=league, \n",
    "                 seasons=season)\n",
    "\n",
    "\n",
    "mh = sd.MatchHistory(leagues=league, \n",
    "                     seasons=season)\n",
    "\n"
   ]
  },
  {
   "cell_type": "code",
   "execution_count": null,
   "metadata": {},
   "outputs": [],
   "source": [
    "epl_schedule = ws.read_schedule()\n",
    "fbref_schedule = fbref.read_schedule()"
   ]
  },
  {
   "cell_type": "code",
   "execution_count": null,
   "metadata": {},
   "outputs": [],
   "source": [
    "master_schedule = epl_schedule.merge(fbref_schedule[['game_id']], left_index=True, right_index=True, how='inner')"
   ]
  },
  {
   "cell_type": "code",
   "execution_count": null,
   "metadata": {},
   "outputs": [],
   "source": [
    "fbref_schedule.home_team.unique()"
   ]
  },
  {
   "cell_type": "code",
   "execution_count": null,
   "metadata": {},
   "outputs": [],
   "source": [
    "epl_schedule.home_team.unique()"
   ]
  },
  {
   "cell_type": "code",
   "execution_count": null,
   "metadata": {},
   "outputs": [],
   "source": [
    "for id, match in epl_schedule.iloc[:2].iterrows():\n",
    "    print(id[-1])\n",
    "    match_file_name = id[-1].replace(' ', '_')\n",
    "\n",
    "    event_data = ws.read_events(match_id=int(match.game_id),\n",
    "                                output_fmt=\"spadl\")\n",
    "    \n",
    "    logging.info(\"SPADL Data Loaded\")\n",
    "    \n",
    "    spadl_buffer = StringIO()\n",
    "\n",
    "    event_data.to_csv(spadl_buffer, index=False)\n",
    "    s3.put_object(Bucket=bucket, Key=f'{league}/{season}/events/{match_file_name}_SPADL.csv', Body=spadl_buffer.getvalue())\n",
    "\n",
    "    logging.info(\"SPADL Data Into S3\")\n",
    "\n",
    "    \n",
    "\n",
    "    logging.info(\"Player Data Loaded\")\n",
    "\n",
    "    missing_players = ws.read_missing_players(match_id=int(match.game_id))\n",
    "\n",
    "    logging.info(\"Missing Player Data Loaded\")\n",
    "\n",
    "    players_buffer = StringIO()\n",
    "    missing_players.to_csv(players_buffer, index=False)\n",
    "    s3.put_object(Bucket=bucket, Key=f'{league}/{season}/mising_players/{match_file_name}_Missing_Players.csv', Body=players_buffer.getvalue())\n",
    "\n",
    "    logging.info(\"Missing Player Data Into S3\")\n",
    "\n",
    "    \n",
    "\n",
    "\n",
    "    "
   ]
  },
  {
   "cell_type": "code",
   "execution_count": null,
   "metadata": {},
   "outputs": [],
   "source": [
    "odds = mh.read_games()"
   ]
  },
  {
   "cell_type": "code",
   "execution_count": null,
   "metadata": {},
   "outputs": [],
   "source": [
    "odds.home_team.unique()"
   ]
  },
  {
   "cell_type": "code",
   "execution_count": null,
   "metadata": {},
   "outputs": [],
   "source": [
    "test_match = ws.read_events(match_id=int(epl_schedule.game_id[0]),\n",
    "                output_fmt=\"spadl\")"
   ]
  },
  {
   "cell_type": "code",
   "execution_count": null,
   "metadata": {},
   "outputs": [],
   "source": [
    "missing_players = ws.read_missing_players(match_id=int(epl_schedule.game_id[0]))"
   ]
  },
  {
   "cell_type": "code",
   "execution_count": null,
   "metadata": {},
   "outputs": [],
   "source": [
    "missing_players.head()"
   ]
  },
  {
   "cell_type": "code",
   "execution_count": null,
   "metadata": {},
   "outputs": [],
   "source": [
    "test_match.head()"
   ]
  },
  {
   "cell_type": "code",
   "execution_count": null,
   "metadata": {},
   "outputs": [],
   "source": [
    "type(int(epl_schedule.game_id[0]))"
   ]
  },
  {
   "cell_type": "code",
   "execution_count": null,
   "metadata": {},
   "outputs": [],
   "source": [
    "lamb_func = lambda x: x.replace(' ', '_')\n",
    "new_level_values = epl_schedule.index.get_level_values(2).map(lamb_func)\n",
    "epl_schedule.index = epl_schedule.index.set_levels(new_level_values, level=2)"
   ]
  },
  {
   "cell_type": "code",
   "execution_count": null,
   "metadata": {},
   "outputs": [],
   "source": []
  },
  {
   "cell_type": "code",
   "execution_count": null,
   "metadata": {},
   "outputs": [],
   "source": []
  }
 ],
 "metadata": {
  "kernelspec": {
   "display_name": "venv",
   "language": "python",
   "name": "python3"
  },
  "language_info": {
   "codemirror_mode": {
    "name": "ipython",
    "version": 3
   },
   "file_extension": ".py",
   "mimetype": "text/x-python",
   "name": "python",
   "nbconvert_exporter": "python",
   "pygments_lexer": "ipython3",
   "version": "3.11.2"
  }
 },
 "nbformat": 4,
 "nbformat_minor": 2
}
